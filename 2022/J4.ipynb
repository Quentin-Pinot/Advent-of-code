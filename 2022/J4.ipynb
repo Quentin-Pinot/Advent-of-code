{
 "cells": [
  {
   "cell_type": "code",
   "execution_count": 1,
   "metadata": {},
   "outputs": [],
   "source": [
    "from aoc import get_input, submit"
   ]
  },
  {
   "cell_type": "markdown",
   "metadata": {},
   "source": [
    "# Part 1"
   ]
  },
  {
   "cell_type": "code",
   "execution_count": 2,
   "metadata": {},
   "outputs": [],
   "source": [
    "DAY = 4\n",
    "PART = 1\n",
    "s = get_input(DAY).strip()"
   ]
  },
  {
   "cell_type": "code",
   "execution_count": 25,
   "metadata": {},
   "outputs": [],
   "source": [
    "ans = 0\n",
    "\n",
    "for m, n in [i.split(',') \n",
    "\n",
    " i in s.split('\\n')]:\n",
    "    a = m.split('-')\n",
    "    b = n.split('-')\n",
    "\n",
    "    if (int(a[0]) >= int(b[0])) & (int(a[1]) <= int(b[1])):\n",
    "        ans += 1\n",
    "    elif (int(a[0]) <= int(b[0])) & (int(a[1]) >= int(b[1])):\n",
    "        ans += 1"
   ]
  },
  {
   "cell_type": "code",
   "execution_count": 26,
   "metadata": {},
   "outputs": [
    {
     "name": "stdout",
     "output_type": "stream",
     "text": [
      "VERDICT : OK !\n"
     ]
    }
   ],
   "source": [
    "submit(DAY, PART, ans)"
   ]
  },
  {
   "cell_type": "markdown",
   "metadata": {},
   "source": [
    "# Partie 2"
   ]
  },
  {
   "cell_type": "code",
   "execution_count": 28,
   "metadata": {},
   "outputs": [],
   "source": [
    "DAY = 4\n",
    "PART = 2\n",
    "s = get_input(DAY).strip()"
   ]
  },
  {
   "cell_type": "code",
   "execution_count": 42,
   "metadata": {},
   "outputs": [],
   "source": [
    "ans = 0\n",
    "\n",
    "for m, n in [i.split(',') for i in s.split('\\n')]:\n",
    "    a = m.split('-')\n",
    "    b = n.split('-')\n",
    "\n",
    "    if ((int(a[0]) >= int(b[0])) & (int(a[1]) <= int(b[1]))) | ((int(a[0]) <= int(b[0])) & (int(a[1]) >= int(b[1]))):\n",
    "        ans += 1\n",
    "    elif ((int(a[0]) <= int(b[0])) & (int(a[1]) >= int(b[0]))) | ((int(a[0]) >= int(b[0])) & (int(a[0]) <= int(b[1]))):\n",
    "        ans += 1"
   ]
  },
  {
   "cell_type": "code",
   "execution_count": 44,
   "metadata": {},
   "outputs": [
    {
     "name": "stdout",
     "output_type": "stream",
     "text": [
      "VERDICT : OK !\n"
     ]
    }
   ],
   "source": [
    "submit(DAY, PART, ans)"
   ]
  }
 ],
 "metadata": {
  "kernelspec": {
   "display_name": "Python 3",
   "language": "python",
   "name": "python3"
  },
  "language_info": {
   "codemirror_mode": {
    "name": "ipython",
    "version": 3
   },
   "file_extension": ".py",
   "mimetype": "text/x-python",
   "name": "python",
   "nbconvert_exporter": "python",
   "pygments_lexer": "ipython3",
   "version": "3.9.1 (tags/v3.9.1:1e5d33e, Dec  7 2020, 17:08:21) [MSC v.1927 64 bit (AMD64)]"
  },
  "orig_nbformat": 4,
  "vscode": {
   "interpreter": {
    "hash": "81794d4967e6c3204c66dcd87b604927b115b27c00565d3d43f05ba2f3a2cb0d"
   }
  }
 },
 "nbformat": 4,
 "nbformat_minor": 2
}
