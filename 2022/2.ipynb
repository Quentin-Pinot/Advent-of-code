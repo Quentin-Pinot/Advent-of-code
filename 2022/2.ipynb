{
 "cells": [
  {
   "cell_type": "code",
   "execution_count": 2,
   "metadata": {},
   "outputs": [],
   "source": [
    "import collections\n",
    "import math\n",
    "from aoc import get_input, submit"
   ]
  },
  {
   "attachments": {},
   "cell_type": "markdown",
   "metadata": {},
   "source": [
    "# Part 1"
   ]
  },
  {
   "cell_type": "code",
   "execution_count": null,
   "metadata": {},
   "outputs": [],
   "source": [
    "DAY = 2\n",
    "PART = 1\n",
    "s = get_input(DAY).strip()"
   ]
  },
  {
   "cell_type": "code",
   "execution_count": 22,
   "metadata": {},
   "outputs": [],
   "source": [
    "total = 0\n",
    "\n",
    "score = {\"A\" : 1, \"B\": 2, \"C\": 3, \"X\": 1, \"Y\":2, \"Z\": 3}\n",
    "\n",
    "for j in [i.split(' ')for i in s.split('\\n')]:\n",
    "    somme = score[j[0]] - score[j[1]]\n",
    "    if somme == 0:\n",
    "        total += score[j[1]] + 3\n",
    "    elif (somme == -1) | (somme == 2):\n",
    "        total += score[j[1]] + 6\n",
    "    else:\n",
    "        total += score[j[1]] + 0\n",
    "        \n",
    "submit(DAY, PART, total)"
   ]
  },
  {
   "attachments": {},
   "cell_type": "markdown",
   "metadata": {},
   "source": [
    "# Part 2"
   ]
  },
  {
   "cell_type": "code",
   "execution_count": 14,
   "metadata": {},
   "outputs": [],
   "source": [
    "DAY = 2\n",
    "PART = 2\n",
    "s = get_input(DAY).strip()"
   ]
  },
  {
   "cell_type": "code",
   "execution_count": 16,
   "metadata": {},
   "outputs": [],
   "source": [
    "total = 0\n",
    "\n",
    "score = {\"A\" : 1, \"B\": 2, \"C\": 3}\n",
    "win = {\"A\" : 'B', \"B\": \"C\", \"C\": \"A\"}\n",
    "\n",
    "for j in [i.split(' ')for i in s.split('\\n')]:\n",
    "    if j[1] == 'Y':\n",
    "        total += score[j[0]] + 3\n",
    "    elif j[1] == 'X':\n",
    "        total += score[list(win.keys())[list(win.values()).index(j[0])]] +  0\n",
    "    else:\n",
    "        total += score[win[j[0]]] + 6\n",
    "        \n",
    "submit(DAY, PART, total)"
   ]
  }
 ],
 "metadata": {
  "kernelspec": {
   "display_name": "Python 3.10.1 64-bit",
   "language": "python",
   "name": "python3"
  },
  "language_info": {
   "codemirror_mode": {
    "name": "ipython",
    "version": 3
   },
   "file_extension": ".py",
   "mimetype": "text/x-python",
   "name": "python",
   "nbconvert_exporter": "python",
   "pygments_lexer": "ipython3",
   "version": "3.10.1"
  },
  "orig_nbformat": 4,
  "vscode": {
   "interpreter": {
    "hash": "2823d83d0138f4e88bebb1ac6893599dadbc35aa0bdabe1fb606adea8faab8b6"
   }
  }
 },
 "nbformat": 4,
 "nbformat_minor": 2
}
