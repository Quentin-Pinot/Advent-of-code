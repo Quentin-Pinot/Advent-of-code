{
 "cells": [
  {
   "cell_type": "code",
   "execution_count": 46,
   "metadata": {},
   "outputs": [],
   "source": [
    "from aoc import get_input, submit\n",
    "from IPython.display import display"
   ]
  },
  {
   "cell_type": "markdown",
   "metadata": {},
   "source": [
    "# Part 1"
   ]
  },
  {
   "cell_type": "code",
   "execution_count": 3,
   "metadata": {},
   "outputs": [],
   "source": [
    "DAY = 5\n",
    "PART = 1\n",
    "s = get_input(DAY).strip()"
   ]
  },
  {
   "cell_type": "code",
   "execution_count": 101,
   "metadata": {},
   "outputs": [
    {
     "name": "stdout",
     "output_type": "stream",
     "text": [
      "0 ['J', 'V', 'R', 'R', 'L', 'H', 'S', 'P', 'D', 'B', 'V', 'V', 'G', 'Z', 'V', 'R', 'D']\n",
      "1 ['D', 'Q', 'H', 'P', 'Q', 'L', 'H']\n",
      "2 ['T', 'Z', 'N', 'N', 'V', 'F']\n",
      "3 ['M']\n",
      "4 ['R', 'P', 'G', 'M']\n",
      "5 ['W']\n",
      "6 ['C', 'L']\n",
      "7 ['Q']\n",
      "8 ['J', 'P', 'D', 'D', 'B', 'C', 'L', 'Z', 'J', 'V', 'B', 'R', 'F', 'W', 'C', 'J', 'W']\n"
     ]
    }
   ],
   "source": [
    "tab = []\n",
    "\n",
    "data = s.split('\\n')\n",
    "\n",
    "n = 4\n",
    "for r in data:\n",
    "    if len(r) != 0:\n",
    "        if r[0]!='':\n",
    "            if r[0] != 'm':\n",
    "                addT = [r[i:i+n]for i in range(0, len(r), n)]\n",
    "\n",
    "                for i in range(len(addT)):\n",
    "                    if len(tab) == 0:\n",
    "                        tab = [[] for _ in range(len(list(addT)))]\n",
    "                    if (addT[i][1] != ' ') & (addT[i][0] != ' '):\n",
    "                        tab[i].append(addT[i][1])\n",
    "            else:\n",
    "                inst = r.split(' ')\n",
    "\n",
    "                for _ in range(int(inst[1])):\n",
    "                    tab[int(inst[-1])-1].insert(0, tab[int(inst[3])-1].pop(0))\n",
    "\n",
    "ans = ''         \n",
    "for v in tab:\n",
    "    print(tab.index(v), v)\n",
    "    ans += v[0]"
   ]
  },
  {
   "cell_type": "code",
   "execution_count": 102,
   "metadata": {},
   "outputs": [
    {
     "data": {
      "text/plain": [
       "'JDTMRWCQJ'"
      ]
     },
     "execution_count": 102,
     "metadata": {},
     "output_type": "execute_result"
    }
   ],
   "source": [
    "ans"
   ]
  },
  {
   "cell_type": "code",
   "execution_count": 103,
   "metadata": {},
   "outputs": [
    {
     "name": "stdout",
     "output_type": "stream",
     "text": [
      "VERDICT : OK !\n"
     ]
    }
   ],
   "source": [
    "submit(DAY, PART, ans)"
   ]
  },
  {
   "cell_type": "markdown",
   "metadata": {},
   "source": [
    "# Partie 2"
   ]
  },
  {
   "cell_type": "code",
   "execution_count": 121,
   "metadata": {},
   "outputs": [],
   "source": [
    "DAY = 5\n",
    "PART = 2\n",
    "s = get_input(DAY).strip()"
   ]
  },
  {
   "cell_type": "code",
   "execution_count": 122,
   "metadata": {},
   "outputs": [
    {
     "name": "stdout",
     "output_type": "stream",
     "text": [
      "0 ['V', 'Q', 'R', 'Z', 'Z', 'R', 'P', 'V', 'V', 'M', 'D', 'G', 'Q', 'Z', 'L', 'R', 'L']\n",
      "1 ['H', 'H', 'V', 'P', 'N', 'B', 'V']\n",
      "2 ['J', 'F', 'F', 'C', 'D', 'N']\n",
      "3 ['D']\n",
      "4 ['D', 'R', 'B', 'J']\n",
      "5 ['C']\n",
      "6 ['W', 'P']\n",
      "7 ['R']\n",
      "8 ['D', 'P', 'J', 'S', 'W', 'J', 'L', 'G', 'C', 'M', 'W', 'L', 'V', 'B', 'Q', 'H', 'T']\n"
     ]
    }
   ],
   "source": [
    "tab = []\n",
    "\n",
    "data = s.split('\\n')\n",
    "\n",
    "n = 4\n",
    "for r in data:\n",
    "    if len(r) != 0:\n",
    "        if r[0]!='':\n",
    "            if r[0] != 'm':\n",
    "                addT = [r[i:i+n]for i in range(0, len(r), n)]\n",
    "\n",
    "                for i in range(len(addT)):\n",
    "                    if len(tab) == 0:\n",
    "                        tab = [[] for _ in range(len(list(addT)))]\n",
    "                    if (addT[i][1] != ' ') & (addT[i][0] != ' '):\n",
    "                        tab[i].append(addT[i][1])\n",
    "            else:\n",
    "                inst = r.split(' ')\n",
    "\n",
    "                tab[int(inst[-1])-1] = tab[int(inst[3])-1][:int(inst[1])] + tab[int(inst[-1])-1]\n",
    "\n",
    "                del tab[int(inst[3])-1][:int(inst[1])]\n",
    "\n",
    "ans = ''         \n",
    "for v in tab:\n",
    "    print(tab.index(v), v)\n",
    "    ans += v[0]"
   ]
  },
  {
   "cell_type": "code",
   "execution_count": 123,
   "metadata": {},
   "outputs": [
    {
     "name": "stdout",
     "output_type": "stream",
     "text": [
      "VERDICT : OK !\n"
     ]
    }
   ],
   "source": [
    "submit(DAY, PART, ans)"
   ]
  }
 ],
 "metadata": {
  "kernelspec": {
   "display_name": "Python 3",
   "language": "python",
   "name": "python3"
  },
  "language_info": {
   "codemirror_mode": {
    "name": "ipython",
    "version": 3
   },
   "file_extension": ".py",
   "mimetype": "text/x-python",
   "name": "python",
   "nbconvert_exporter": "python",
   "pygments_lexer": "ipython3",
   "version": "3.9.1"
  },
  "orig_nbformat": 4,
  "vscode": {
   "interpreter": {
    "hash": "81794d4967e6c3204c66dcd87b604927b115b27c00565d3d43f05ba2f3a2cb0d"
   }
  }
 },
 "nbformat": 4,
 "nbformat_minor": 2
}
